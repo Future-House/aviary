{
 "cells": [
  {
   "cell_type": "markdown",
   "id": "ddcb8adc-f12d-42e2-909b-93ffed6e4259",
   "metadata": {},
   "source": [
    "# Building a Custom Environment in Aviary"
   ]
  },
  {
   "cell_type": "markdown",
   "id": "597cf85b-a47e-4a66-9cee-cf56318d5d00",
   "metadata": {},
   "source": [
    "## Defining a Custom Environment\n",
    "\n",
    "The example below walks through defining a custom language agent environment in Aviary. \n",
    "We define a simple environment where an agent takes actions to modify a counter."
   ]
  },
  {
   "cell_type": "code",
   "execution_count": null,
   "id": "e57efbec-1f48-405e-acd4-cb4b89c4a0ba",
   "metadata": {},
   "outputs": [],
   "source": [
    "from pydantic import BaseModel\n",
    "\n",
    "from aviary.core import Environment, Message, Tool, ToolRequestMessage\n",
    "\n",
    "\n",
    "# State in this example is simply a counter\n",
    "class CounterEnvState(BaseModel):\n",
    "    count: int\n",
    "\n",
    "\n",
    "class CounterEnv(Environment[CounterEnvState]):\n",
    "    \"\"\"A simple environment that allows an agent to modify a counter.\"\"\"\n",
    "\n",
    "    async def reset(self) -> tuple[list[Message], list[Tool]]:\n",
    "        \"\"\"Initialize the environment with a counter set to 0.\"\"\"\n",
    "        self.state = CounterEnvState(count=0)\n",
    "\n",
    "        # Target count\n",
    "        self.target = 10\n",
    "\n",
    "        # Create tools allowing the agent to increment and decrement counter\n",
    "        self.tools = [\n",
    "            Tool.from_function(self.incr),\n",
    "            Tool.from_function(self.decr),\n",
    "        ]\n",
    "\n",
    "        # Return an observation message with the counter and available tools\n",
    "        return [Message(content=f\"Count to 10. counter={self.state.count}\")], self.tools\n",
    "\n",
    "    async def step(\n",
    "        self, action: ToolRequestMessage\n",
    "    ) -> tuple[list[Message], float, bool, bool]:\n",
    "        \"\"\"Executes the tool call requested by the agent.\"\"\"\n",
    "        obs = await self.exec_tool_calls(action)\n",
    "\n",
    "        reward = int(self.state.count == self.target)\n",
    "\n",
    "        # Returns observations, reward, done, truncated\n",
    "        return obs, reward, reward == 1, False\n",
    "\n",
    "    def incr(self) -> str:\n",
    "        \"\"\"Increment the counter.\"\"\"\n",
    "        self.state.count += 1\n",
    "        return f\"counter={self.state.count}\"\n",
    "\n",
    "    def decr(self) -> str:\n",
    "        \"\"\"Decrement the counter.\"\"\"\n",
    "        self.state.count -= 1\n",
    "        return f\"counter={self.state.count}\""
   ]
  },
  {
   "cell_type": "markdown",
   "id": "25a02b15-dd96-47e1-990f-7678f7469b4f",
   "metadata": {},
   "source": [
    "## Evaluating an Agent on the Environment\n",
    "\n",
    "Following the definition of our custom environment, we can now evaluate a language agent\n",
    "on the environment using Aviary's sister library LDP (https://github.com/Future-House/ldp)."
   ]
  },
  {
   "cell_type": "code",
   "execution_count": null,
   "id": "d186b08a-d5b7-404b-a4e4-d6dab15bcf74",
   "metadata": {},
   "outputs": [],
   "source": [
    "from typing import NamedTuple\n",
    "\n",
    "from ldp.agent import Agent\n",
    "from ldp.alg import RolloutManager\n",
    "from ldp.graph import LLMCallOp\n",
    "\n",
    "\n",
    "class AgentState(\n",
    "    NamedTuple(\"AgentState\", [(\"messages\", list[Message]), (\"tools\", list[Tool])])\n",
    "):\n",
    "    \"\"\"A container for maintaining agent state across interactions.\"\"\"\n",
    "\n",
    "    __slots__ = ()\n",
    "\n",
    "\n",
    "class SimpleAgent(Agent):\n",
    "    def __init__(self, **kwargs: dict) -> None:\n",
    "        self._llm_call_op = LLMCallOp(**kwargs)\n",
    "\n",
    "    async def init_state(self, tools: list[Tool]) -> AgentState:\n",
    "        # With namedtuple, you instantiate it like a regular class/function call\n",
    "        return AgentState(messages=[], tools=tools)\n",
    "\n",
    "    async def get_asv(\n",
    "        self, agent_state: AgentState, obs: list[Message]\n",
    "    ) -> tuple[ToolRequestMessage, AgentState, float]:\n",
    "        \"\"\"Take an action, observe new state, return value.\"\"\"\n",
    "        action: ToolRequestMessage = await self._llm_call_op(\n",
    "            config={\"name\": \"gpt-4o\", \"temperature\": 0.1},\n",
    "            msgs=agent_state.messages + obs,\n",
    "            tools=agent_state.tools,\n",
    "        )\n",
    "        new_state: AgentState = AgentState(\n",
    "            messages=agent_state.messages + obs + [action.value],\n",
    "            tools=agent_state.tools,\n",
    "        )\n",
    "        # Return action, state, value\n",
    "        return action, new_state, 0.0"
   ]
  },
  {
   "cell_type": "code",
   "execution_count": null,
   "id": "fa2c70d6-1512-451d-8e94-e05914640cca",
   "metadata": {},
   "outputs": [],
   "source": [
    "# Create a simple agent and perform rollouts on the environment\n",
    "agent: SimpleAgent = SimpleAgent()\n",
    "\n",
    "runner: RolloutManager = RolloutManager(agent=agent)\n",
    "\n",
    "trajectories: list[tuple] = await runner.sample_trajectories(\n",
    "    environment_factory=CounterEnv,\n",
    "    batch_size=2,\n",
    ")"
   ]
  },
  {
   "cell_type": "code",
   "execution_count": null,
   "id": "a468e391-3eee-42e5-a9e5-7bcee5118758",
   "metadata": {},
   "outputs": [
    {
     "data": {
      "text/plain": [
       "[(Trajectory(traj_id='7c038fd5a0c8429d9b6f45a42f3120f1', steps=[Transition(timestep=0, agent_state=AgentState(messages=[], tools=[Tool(type='function', info=FunctionInfo(name='incr', description='Increment the counter.', parameters=Parameters(type='object', properties={}, required=[]))), Tool(type='function', info=FunctionInfo(name='decr', description='Decrement the counter.', parameters=Parameters(type='object', properties={}, required=[])))]), next_agent_state=AgentState(messages=[Message(role='user', content='Count to 10. counter=0'), ToolRequestMessage(role='assistant', content=None, function_call=None, tool_calls=[ToolCall(id='call_szAYyJep11zrOcWIVgI03oyx', type='function', function=ToolCallFunction(arguments={}, name='incr')), ToolCall(id='call_IHk77OWwlwMnqQ8dzYqxb8nC', type='function', function=ToolCallFunction(arguments={}, name='incr')), ToolCall(id='call_d1Ttcj52VSJVOiApRpW0QfBM', type='function', function=ToolCallFunction(arguments={}, name='incr')), ToolCall(id='call_eQ1BJPN6tVzHSku2WatfAW1R', type='function', function=ToolCallFunction(arguments={}, name='incr')), ToolCall(id='call_PJNbNeEikbiOJXsg4PS7kDIW', type='function', function=ToolCallFunction(arguments={}, name='incr')), ToolCall(id='call_0ULyg8gFIZhJJeLtDUpt4vXv', type='function', function=ToolCallFunction(arguments={}, name='incr')), ToolCall(id='call_NpzZOeDPQUS9tgBBVFkJgO8D', type='function', function=ToolCallFunction(arguments={}, name='incr')), ToolCall(id='call_xoC4VvalHtMM6362oYKT6alr', type='function', function=ToolCallFunction(arguments={}, name='incr')), ToolCall(id='call_IRi6ss2nMvKZcQWqysigO3dD', type='function', function=ToolCallFunction(arguments={}, name='incr')), ToolCall(id='call_Hhj4Rf3FxgJ7chC1UrfKRCfn', type='function', function=ToolCallFunction(arguments={}, name='incr'))])], tools=[Tool(type='function', info=FunctionInfo(name='incr', description='Increment the counter.', parameters=Parameters(type='object', properties={}, required=[]))), Tool(type='function', info=FunctionInfo(name='decr', description='Decrement the counter.', parameters=Parameters(type='object', properties={}, required=[])))]), observation=[Message(role='user', content='Count to 10. counter=0')], next_observation=[ToolResponseMessage(role='tool', content='counter=1', name='incr', tool_call_id='call_szAYyJep11zrOcWIVgI03oyx'), ToolResponseMessage(role='tool', content='counter=2', name='incr', tool_call_id='call_IHk77OWwlwMnqQ8dzYqxb8nC'), ToolResponseMessage(role='tool', content='counter=3', name='incr', tool_call_id='call_d1Ttcj52VSJVOiApRpW0QfBM'), ToolResponseMessage(role='tool', content='counter=4', name='incr', tool_call_id='call_eQ1BJPN6tVzHSku2WatfAW1R'), ToolResponseMessage(role='tool', content='counter=5', name='incr', tool_call_id='call_PJNbNeEikbiOJXsg4PS7kDIW'), ToolResponseMessage(role='tool', content='counter=6', name='incr', tool_call_id='call_0ULyg8gFIZhJJeLtDUpt4vXv'), ToolResponseMessage(role='tool', content='counter=7', name='incr', tool_call_id='call_NpzZOeDPQUS9tgBBVFkJgO8D'), ToolResponseMessage(role='tool', content='counter=8', name='incr', tool_call_id='call_xoC4VvalHtMM6362oYKT6alr'), ToolResponseMessage(role='tool', content='counter=9', name='incr', tool_call_id='call_IRi6ss2nMvKZcQWqysigO3dD'), ToolResponseMessage(role='tool', content='counter=10', name='incr', tool_call_id='call_Hhj4Rf3FxgJ7chC1UrfKRCfn')], action=OpResult(op=ldp.graph.common_ops.LLMCallOp:_llm_call_op, call_id=run_id=UUID('ef1262b4-5468-42e1-a6eb-a109585d408f') fwd_id=UUID('4baf6a3d-892f-4621-9a66-928e7e857367'), value=ToolRequestMessage(role='assistant', content=None, function_call=None, tool_calls=[ToolCall(id='call_szAYyJep11zrOcWIVgI03oyx', type='function', function=ToolCallFunction(arguments={}, name='incr')), ToolCall(id='call_IHk77OWwlwMnqQ8dzYqxb8nC', type='function', function=ToolCallFunction(arguments={}, name='incr')), ToolCall(id='call_d1Ttcj52VSJVOiApRpW0QfBM', type='function', function=ToolCallFunction(arguments={}, name='incr')), ToolCall(id='call_eQ1BJPN6tVzHSku2WatfAW1R', type='function', function=ToolCallFunction(arguments={}, name='incr')), ToolCall(id='call_PJNbNeEikbiOJXsg4PS7kDIW', type='function', function=ToolCallFunction(arguments={}, name='incr')), ToolCall(id='call_0ULyg8gFIZhJJeLtDUpt4vXv', type='function', function=ToolCallFunction(arguments={}, name='incr')), ToolCall(id='call_NpzZOeDPQUS9tgBBVFkJgO8D', type='function', function=ToolCallFunction(arguments={}, name='incr')), ToolCall(id='call_xoC4VvalHtMM6362oYKT6alr', type='function', function=ToolCallFunction(arguments={}, name='incr')), ToolCall(id='call_IRi6ss2nMvKZcQWqysigO3dD', type='function', function=ToolCallFunction(arguments={}, name='incr')), ToolCall(id='call_Hhj4Rf3FxgJ7chC1UrfKRCfn', type='function', function=ToolCallFunction(arguments={}, name='incr'))])), reward=1.0, truncated=False, done=True, value=0.0, metadata={})]),\n",
       "  <__main__.CounterEnv at 0x1530b7ef0>),\n",
       " (Trajectory(traj_id='c886533d52fd4328b63c9a0e8c31fee0', steps=[Transition(timestep=0, agent_state=AgentState(messages=[], tools=[Tool(type='function', info=FunctionInfo(name='incr', description='Increment the counter.', parameters=Parameters(type='object', properties={}, required=[]))), Tool(type='function', info=FunctionInfo(name='decr', description='Decrement the counter.', parameters=Parameters(type='object', properties={}, required=[])))]), next_agent_state=AgentState(messages=[Message(role='user', content='Count to 10. counter=0'), ToolRequestMessage(role='assistant', content=None, function_call=None, tool_calls=[ToolCall(id='call_J5iTzCRRcJX2OktZc8FGLtue', type='function', function=ToolCallFunction(arguments={}, name='incr')), ToolCall(id='call_ajSc9v3q7d7Qvhkrj5Qopjea', type='function', function=ToolCallFunction(arguments={}, name='incr')), ToolCall(id='call_5I6waq1YMloRnvYs2SRkhVd9', type='function', function=ToolCallFunction(arguments={}, name='incr')), ToolCall(id='call_Grr6tZt8sq3ZdBRYvJ1v4ulG', type='function', function=ToolCallFunction(arguments={}, name='incr')), ToolCall(id='call_3vPvGUi7jb5HfXcTe8jW6JjG', type='function', function=ToolCallFunction(arguments={}, name='incr')), ToolCall(id='call_scj9wMrtXvE7AMy5JqPHEGOQ', type='function', function=ToolCallFunction(arguments={}, name='incr')), ToolCall(id='call_tumi2H6oXQsR6Kolwvf5ewlD', type='function', function=ToolCallFunction(arguments={}, name='incr')), ToolCall(id='call_noCFe7d8P7j4zatxJvqEfOiq', type='function', function=ToolCallFunction(arguments={}, name='incr')), ToolCall(id='call_y25ScsgtFz4DDrstzUD4VL3x', type='function', function=ToolCallFunction(arguments={}, name='incr')), ToolCall(id='call_AQIYMUkJb9I8Za0FnqVW2Q7h', type='function', function=ToolCallFunction(arguments={}, name='incr'))])], tools=[Tool(type='function', info=FunctionInfo(name='incr', description='Increment the counter.', parameters=Parameters(type='object', properties={}, required=[]))), Tool(type='function', info=FunctionInfo(name='decr', description='Decrement the counter.', parameters=Parameters(type='object', properties={}, required=[])))]), observation=[Message(role='user', content='Count to 10. counter=0')], next_observation=[ToolResponseMessage(role='tool', content='counter=1', name='incr', tool_call_id='call_J5iTzCRRcJX2OktZc8FGLtue'), ToolResponseMessage(role='tool', content='counter=2', name='incr', tool_call_id='call_ajSc9v3q7d7Qvhkrj5Qopjea'), ToolResponseMessage(role='tool', content='counter=3', name='incr', tool_call_id='call_5I6waq1YMloRnvYs2SRkhVd9'), ToolResponseMessage(role='tool', content='counter=4', name='incr', tool_call_id='call_Grr6tZt8sq3ZdBRYvJ1v4ulG'), ToolResponseMessage(role='tool', content='counter=5', name='incr', tool_call_id='call_3vPvGUi7jb5HfXcTe8jW6JjG'), ToolResponseMessage(role='tool', content='counter=6', name='incr', tool_call_id='call_scj9wMrtXvE7AMy5JqPHEGOQ'), ToolResponseMessage(role='tool', content='counter=7', name='incr', tool_call_id='call_tumi2H6oXQsR6Kolwvf5ewlD'), ToolResponseMessage(role='tool', content='counter=8', name='incr', tool_call_id='call_noCFe7d8P7j4zatxJvqEfOiq'), ToolResponseMessage(role='tool', content='counter=9', name='incr', tool_call_id='call_y25ScsgtFz4DDrstzUD4VL3x'), ToolResponseMessage(role='tool', content='counter=10', name='incr', tool_call_id='call_AQIYMUkJb9I8Za0FnqVW2Q7h')], action=OpResult(op=ldp.graph.common_ops.LLMCallOp:_llm_call_op, call_id=run_id=UUID('3b5794fe-aa63-42c8-8976-d0ea31fbcf6a') fwd_id=UUID('cac81068-968c-44ad-a30e-268e89eeefbf'), value=ToolRequestMessage(role='assistant', content=None, function_call=None, tool_calls=[ToolCall(id='call_J5iTzCRRcJX2OktZc8FGLtue', type='function', function=ToolCallFunction(arguments={}, name='incr')), ToolCall(id='call_ajSc9v3q7d7Qvhkrj5Qopjea', type='function', function=ToolCallFunction(arguments={}, name='incr')), ToolCall(id='call_5I6waq1YMloRnvYs2SRkhVd9', type='function', function=ToolCallFunction(arguments={}, name='incr')), ToolCall(id='call_Grr6tZt8sq3ZdBRYvJ1v4ulG', type='function', function=ToolCallFunction(arguments={}, name='incr')), ToolCall(id='call_3vPvGUi7jb5HfXcTe8jW6JjG', type='function', function=ToolCallFunction(arguments={}, name='incr')), ToolCall(id='call_scj9wMrtXvE7AMy5JqPHEGOQ', type='function', function=ToolCallFunction(arguments={}, name='incr')), ToolCall(id='call_tumi2H6oXQsR6Kolwvf5ewlD', type='function', function=ToolCallFunction(arguments={}, name='incr')), ToolCall(id='call_noCFe7d8P7j4zatxJvqEfOiq', type='function', function=ToolCallFunction(arguments={}, name='incr')), ToolCall(id='call_y25ScsgtFz4DDrstzUD4VL3x', type='function', function=ToolCallFunction(arguments={}, name='incr')), ToolCall(id='call_AQIYMUkJb9I8Za0FnqVW2Q7h', type='function', function=ToolCallFunction(arguments={}, name='incr'))])), reward=1.0, truncated=False, done=True, value=0.0, metadata={})]),\n",
       "  <__main__.CounterEnv at 0x1540d2d20>)]"
      ]
     },
     "execution_count": null,
     "metadata": {},
     "output_type": "execute_result"
    }
   ],
   "source": [
    "trajectories"
   ]
  },
  {
   "cell_type": "markdown",
   "id": "2473b723-53cb-43a5-b8c4-920503262cd9",
   "metadata": {},
   "source": [
    "# End"
   ]
  }
 ],
 "metadata": {
  "kernelspec": {
   "display_name": "Python 3 (ipykernel)",
   "language": "python",
   "name": "python3"
  },
  "language_info": {
   "codemirror_mode": {
    "name": "ipython",
    "version": 3
   },
   "file_extension": ".py",
   "mimetype": "text/x-python",
   "name": "python",
   "nbconvert_exporter": "python",
   "pygments_lexer": "ipython3"
  }
 },
 "nbformat": 4,
 "nbformat_minor": 5
}
